{
 "cells": [
  {
   "cell_type": "markdown",
   "metadata": {},
   "source": [
    "# CNN training and tuning in Python\n",
    "\n",
    "## CNN with Keras and Tensorflow\n",
    "\n",
    "The first part of the tutorial introduces how to train a convolutional neural network in Python using `Keras` and `Tensorflow`. The two packages can be installed by command\n",
    "```\n",
    "pip install tensorflow\n",
    "pip install keras==2.1.6\n",
    "```\n",
    "**Important: The latest Keras of version 2.2.x has issues reloading the trained model. (And I don't know why they haven't fixed it yet.) So please make sure you installed a 2.1.x version.**\n",
    "\n",
    "We are using the CPU version of tensorflow here. For intallation information of GPU version, please check https://www.tensorflow.org/install/gpu.\n"
   ]
  },
  {
   "cell_type": "code",
   "execution_count": 1,
   "metadata": {},
   "outputs": [
    {
     "name": "stderr",
     "output_type": "stream",
     "text": [
      "C:\\anaconda3\\lib\\site-packages\\h5py\\__init__.py:36: FutureWarning: Conversion of the second argument of issubdtype from `float` to `np.floating` is deprecated. In future, it will be treated as `np.float64 == np.dtype(float).type`.\n",
      "  from ._conv import register_converters as _register_converters\n",
      "Using TensorFlow backend.\n"
     ]
    }
   ],
   "source": [
    "import keras\n",
    "from keras.datasets import mnist\n",
    "from keras.models import Sequential, load_model\n",
    "from keras.layers import Dense, Dropout, Flatten\n",
    "from keras.layers import InputLayer, Conv2D, MaxPooling2D\n",
    "from keras import backend as K\n",
    "import matplotlib.pyplot as plt\n",
    "from keras.optimizers import Adam\n",
    "import os"
   ]
  },
  {
   "cell_type": "markdown",
   "metadata": {},
   "source": [
    "The version information is as follows"
   ]
  },
  {
   "cell_type": "code",
   "execution_count": 2,
   "metadata": {},
   "outputs": [
    {
     "data": {
      "text/plain": [
       "'3.6.4 |Anaconda, Inc.| (default, Jan 16 2018, 10:22:32) [MSC v.1900 64 bit (AMD64)]'"
      ]
     },
     "execution_count": 2,
     "metadata": {},
     "output_type": "execute_result"
    }
   ],
   "source": [
    "import sys\n",
    "sys.version"
   ]
  },
  {
   "cell_type": "code",
   "execution_count": 3,
   "metadata": {},
   "outputs": [
    {
     "data": {
      "text/plain": [
       "'2.1.6'"
      ]
     },
     "execution_count": 3,
     "metadata": {},
     "output_type": "execute_result"
    }
   ],
   "source": [
    "keras.__version__"
   ]
  },
  {
   "cell_type": "code",
   "execution_count": 4,
   "metadata": {},
   "outputs": [
    {
     "data": {
      "text/plain": [
       "'1.12.0'"
      ]
     },
     "execution_count": 4,
     "metadata": {},
     "output_type": "execute_result"
    }
   ],
   "source": [
    "import tensorflow as tf\n",
    "tf.__version__"
   ]
  },
  {
   "cell_type": "markdown",
   "metadata": {},
   "source": [
    "### Load MNIST data\n",
    "First, we load MNIST dataset. It contains 28x28 black and white handwritten digit data from 0 to 9."
   ]
  },
  {
   "cell_type": "code",
   "execution_count": 5,
   "metadata": {},
   "outputs": [],
   "source": [
    "batch_size = 128 #  \n",
    "num_classes = 10\n",
    "epochs = 1 # you can try more epochs\n",
    "\n",
    "# input image dimensions\n",
    "img_rows, img_cols = 28, 28\n",
    "\n",
    "# the data, split between train and test sets\n",
    "(X_train, y_train), (X_test, y_test) = mnist.load_data()\n",
    "\n",
    "\n",
    "# different backend saves data in diffferent format\n",
    "if K.image_data_format() == 'channels_first':\n",
    "    X_train = X_train.reshape(X_train.shape[0], 1, img_rows, img_cols)\n",
    "    X_test = X_test.reshape(X_test.shape[0], 1, img_rows, img_cols)\n",
    "else: # for Tensorflow, the format is [N_image, image_row, image_col, channel]\n",
    "    X_train = X_train.reshape(X_train.shape[0], img_rows, img_cols, 1)\n",
    "    X_test = X_test.reshape(X_test.shape[0], img_rows, img_cols, 1)\n",
    "\n",
    "\n",
    "X_train = X_train.astype('float32')\n",
    "X_test = X_test.astype('float32')\n",
    "# normalize the pixels to [0, 1]\n",
    "X_train /= 255\n",
    "X_test /= 255"
   ]
  },
  {
   "cell_type": "markdown",
   "metadata": {},
   "source": [
    "We use the first 55000 samples as training set and the rest 5000 as validation set."
   ]
  },
  {
   "cell_type": "code",
   "execution_count": 6,
   "metadata": {},
   "outputs": [
    {
     "name": "stdout",
     "output_type": "stream",
     "text": [
      "X_train shape: (55000, 28, 28, 1)\n",
      "55000 train samples\n",
      "10000 test samples\n",
      "5000 validation samples\n"
     ]
    }
   ],
   "source": [
    "# subset 5000 samples from X_train as validation_set\n",
    "X_train, X_val = X_train[0:55000,:,:,:], X_train[-5000:,:,:,:]\n",
    "y_train, y_val = y_train[0:55000], y_train[-5000:]\n",
    "\n",
    "print('X_train shape:', X_train.shape)\n",
    "print(X_train.shape[0], 'train samples')\n",
    "print(X_test.shape[0], 'test samples')\n",
    "print(X_val.shape[0], 'validation samples')"
   ]
  },
  {
   "cell_type": "markdown",
   "metadata": {},
   "source": [
    "Tensorflow uses one-hot coding for category labels, so we need to transform the format of y first."
   ]
  },
  {
   "cell_type": "code",
   "execution_count": 7,
   "metadata": {},
   "outputs": [],
   "source": [
    "# convert class vectors to one-hot class matrices\n",
    "y_train_vec = y_train\n",
    "y_test_vec = y_test\n",
    "y_val_vec = y_val\n",
    "y_train = keras.utils.to_categorical(y_train, num_classes)\n",
    "y_test = keras.utils.to_categorical(y_test, num_classes)\n",
    "y_val = keras.utils.to_categorical(y_val, num_classes)"
   ]
  },
  {
   "cell_type": "markdown",
   "metadata": {},
   "source": [
    "To inspect the images and the classification result conveniently, we define two functions."
   ]
  },
  {
   "cell_type": "code",
   "execution_count": 8,
   "metadata": {},
   "outputs": [],
   "source": [
    "# check some of images to see if the data is loaded correctly\n",
    "def plot_images(images, label, pred=None):\n",
    "    if pred is None:\n",
    "        try:\n",
    "            assert images.shape[0] == len(label) == 9\n",
    "        except AssertionError:\n",
    "            images = images[0:9,:,:,:]\n",
    "            label = label[0:9]\n",
    "            print('Select the first 9 images')\n",
    "    else:\n",
    "        try:\n",
    "            assert images.shape[0] == len(label) == len(pred) == 9\n",
    "        except AssertionError:\n",
    "            images = images[0:9,:,:,:]\n",
    "            label = label[0:9]\n",
    "            pred = pred[0:9]\n",
    "            print('Select the first 9 images')\n",
    "            \n",
    "    fig, axes = plt.subplots(3,3)\n",
    "    for i, ax in enumerate(axes.flat):\n",
    "        # Plot image\n",
    "        ax.imshow(images[i].reshape([img_rows, img_cols]), cmap='binary')\n",
    "        # Show true and predicted classes\n",
    "        if pred is None:\n",
    "            xlabel = \"True: %d\" % label[i]\n",
    "        else:\n",
    "            xlabel = \"True: %d, Pred: %d\" % (label[i], pred[i])\n",
    "        ax.set_xlabel(xlabel)\n",
    "        # Show the classes as the label on the x-axis\n",
    "        ax.set_xlabel(xlabel)\n",
    "        \n",
    "        # Remove ticks from the plot\n",
    "        ax.set_xticks([])\n",
    "        ax.set_yticks([])   \n",
    "    plt.show()\n",
    "    \n",
    "# plot the incorrectly predicted images \n",
    "def plot_example_errors(images, label, pred):\n",
    "    # Boolean array whether the predicted class is incorrect.\n",
    "    incorrect = (label != pred)\n",
    "    # subset the images and labels\n",
    "    images = images[incorrect,:,:,:]\n",
    "    label = label[incorrect]\n",
    "    pred = pred[incorrect]\n",
    "    plot_images(images, label, pred)"
   ]
  },
  {
   "cell_type": "markdown",
   "metadata": {},
   "source": [
    "Let's check if we load the data correctly."
   ]
  },
  {
   "cell_type": "code",
   "execution_count": 9,
   "metadata": {},
   "outputs": [
    {
     "name": "stdout",
     "output_type": "stream",
     "text": [
      "Select the first 9 images\n"
     ]
    },
    {
     "data": {
      "image/png": "[encoded data removed]",
      "text/plain": [
       "<matplotlib.figure.Figure at 0x2b6f9a52d30>"
      ]
     },
     "metadata": {},
     "output_type": "display_data"
    }
   ],
   "source": [
    "plot_images(X_train, y_train_vec)"
   ]
  },
  {
   "cell_type": "markdown",
   "metadata": {},
   "source": [
    "### Model build\n",
    "As stated in its documet, `Keras` \"was developed with a focus on enabling fast experimentation ... allows for easy and fast prototyping (through user friendliness, modularity, and extensibility\". Building a CNN model is fewer than 20 lines of code."
   ]
  },
  {
   "cell_type": "code",
   "execution_count": 10,
   "metadata": {},
   "outputs": [],
   "source": [
    "learning_rate = 1e-3\n",
    "model = Sequential()\n",
    "# input layer\n",
    "model.add(InputLayer(input_shape=(img_rows, img_cols, 1, )))\n",
    "model.add(Conv2D(32, kernel_size=3,\n",
    "                 activation='relu',\n",
    "                 padding='same',\n",
    "                 name = 'layer_conv_1'))\n",
    "model.add(Conv2D(64, kernel_size=3,\n",
    "                 activation='relu',\n",
    "                 padding='same',\n",
    "                 name = 'layer_conv_2'))\n",
    "model.add(MaxPooling2D(pool_size=(2, 2)))\n",
    "model.add(Flatten())\n",
    "model.add(Dense(64, activation='relu'))\n",
    "model.add(Dense(num_classes, activation='softmax'))\n",
    "model.compile(loss=keras.losses.categorical_crossentropy,\n",
    "              optimizer=Adam(lr=learning_rate),\n",
    "              metrics=['accuracy'])"
   ]
  },
  {
   "cell_type": "markdown",
   "metadata": {},
   "source": [
    "Here we define a two-layer CNN model. The first layer is `InputLayer` to receive the raw images. The two convolutional layers have 32 and 64 kernels for each layer respectively. The kernel size is 3x3 for two layers. The default paading rule is 'SAME'. The other option here is \"VALID\". When using 'SAME', the output height and width are computed as:\n",
    "```\n",
    "out_height = ceil(float(in_height) / float(strides[1]))\n",
    "out_width  = ceil(float(in_width) / float(strides[2]))\n",
    "```\n",
    "while for the 'VALID' scheme, the output height and width are computed as:\n",
    "```\n",
    "out_height = ceil(float(in_height - filter_height + 1) / float(strides[1]))\n",
    "out_width  = ceil(float(in_width - filter_width + 1) / float(strides[2]))\n",
    "```\n",
    "\n",
    "Especially, **when the stride is 1, the \"SAME\" option returns the same output height and width as the input height and width**, which makes it easy to compute the filter size.\n",
    "\n",
    "The convolutional layer is then connected to Maxpooling layer and then flattened to connect a fully-connected layer. The last `Dense` layer outputs the probability of the ten classes.\n",
    "\n",
    "We specify the loss function to be `categorical_crossentropy`. Mathematically, it equals negative log-likelihood. We choose `Adam` as our optimization method. You can also try other algorithms in `keras.optimizers`."
   ]
  },
  {
   "cell_type": "markdown",
   "metadata": {},
   "source": [
    "Though we haven't train our network, we can check its structure first:"
   ]
  },
  {
   "cell_type": "code",
   "execution_count": 11,
   "metadata": {},
   "outputs": [
    {
     "name": "stdout",
     "output_type": "stream",
     "text": [
      "_________________________________________________________________\n",
      "Layer (type)                 Output Shape              Param #   \n",
      "=================================================================\n",
      "input_1 (InputLayer)         (None, 28, 28, 1)         0         \n",
      "_________________________________________________________________\n",
      "layer_conv_1 (Conv2D)        (None, 28, 28, 32)        320       \n",
      "_________________________________________________________________\n",
      "layer_conv_2 (Conv2D)        (None, 28, 28, 64)        18496     \n",
      "_________________________________________________________________\n",
      "max_pooling2d_1 (MaxPooling2 (None, 14, 14, 64)        0         \n",
      "_________________________________________________________________\n",
      "flatten_1 (Flatten)          (None, 12544)             0         \n",
      "_________________________________________________________________\n",
      "dense_1 (Dense)              (None, 64)                802880    \n",
      "_________________________________________________________________\n",
      "dense_2 (Dense)              (None, 10)                650       \n",
      "=================================================================\n",
      "Total params: 822,346\n",
      "Trainable params: 822,346\n",
      "Non-trainable params: 0\n",
      "_________________________________________________________________\n"
     ]
    }
   ],
   "source": [
    "model.summary()"
   ]
  },
  {
   "cell_type": "markdown",
   "metadata": {},
   "source": [
    "We now train the model and output its performance on the test set."
   ]
  },
  {
   "cell_type": "code",
   "execution_count": 12,
   "metadata": {
    "scrolled": true
   },
   "outputs": [
    {
     "name": "stdout",
     "output_type": "stream",
     "text": [
      "Train on 55000 samples, validate on 5000 samples\n",
      "Epoch 1/1\n",
      "55000/55000 [==============================] - 95s 2ms/step - loss: 0.1919 - acc: 0.9411 - val_loss: 0.0612 - val_acc: 0.9830\n",
      "Test loss: 0.06408695189002901\n",
      "Test accuracy: 0.9799\n"
     ]
    }
   ],
   "source": [
    "model.fit(X_train, y_train,\n",
    "          batch_size=batch_size,\n",
    "          epochs=epochs,\n",
    "          verbose=1,\n",
    "          validation_data=(X_val, y_val))\n",
    "score = model.evaluate(X_test, y_test, verbose=0)\n",
    "print('Test loss:', score[0])\n",
    "print('Test accuracy:', score[1])"
   ]
  },
  {
   "cell_type": "markdown",
   "metadata": {},
   "source": [
    "You can save your model for future use and reload it by\n",
    "```\n",
    "model = load_model(model_path)\n",
    "```"
   ]
  },
  {
   "cell_type": "code",
   "execution_count": 13,
   "metadata": {},
   "outputs": [],
   "source": [
    "# define the save path for the trained_model\n",
    "save_path = './trained_model'\n",
    "save_file = 'cnn_mnist.keras'\n",
    "# check if the save_path exists\n",
    "if not os.path.exists(save_path):\n",
    "    os.mkdir(save_path)"
   ]
  },
  {
   "cell_type": "code",
   "execution_count": 14,
   "metadata": {},
   "outputs": [
    {
     "name": "stdout",
     "output_type": "stream",
     "text": [
      "Model saved\n"
     ]
    }
   ],
   "source": [
    "# save the model\n",
    "model_path = os.path.join(save_path, save_file)\n",
    "model.save(model_path)\n",
    "print('Model saved')\n",
    "# for model reuse in the future, use the following commands\n",
    "#from keras.models import load_model\n",
    "#model = load_model(model_path)\n",
    "\n",
    "# for further investigation, return the label of the test set\n",
    "y_pred = model.predict_classes(x=X_test)\n"
   ]
  },
  {
   "cell_type": "markdown",
   "metadata": {},
   "source": [
    "### Model evaluation"
   ]
  },
  {
   "cell_type": "markdown",
   "metadata": {},
   "source": [
    "We inspect some prediction result of the test set."
   ]
  },
  {
   "cell_type": "code",
   "execution_count": 15,
   "metadata": {},
   "outputs": [
    {
     "name": "stdout",
     "output_type": "stream",
     "text": [
      "Select the first 9 images\n"
     ]
    },
    {
     "data": {
      "image/png": "[encoded data removed]",
      "text/plain": [
       "<matplotlib.figure.Figure at 0x2b682450400>"
      ]
     },
     "metadata": {},
     "output_type": "display_data"
    }
   ],
   "source": [
    "plot_images(X_test, y_test_vec, y_pred)"
   ]
  },
  {
   "cell_type": "markdown",
   "metadata": {},
   "source": [
    "It is common practive to inspect some misspecified samples, which may help us determine why it doesn't work and provide us some intuition on how to improve the classifier. For example, the following digit 2 is classified as 7. But viually, it does look like 7. It indicates our model is still reasonable."
   ]
  },
  {
   "cell_type": "code",
   "execution_count": 16,
   "metadata": {},
   "outputs": [
    {
     "name": "stdout",
     "output_type": "stream",
     "text": [
      "Select the first 9 images\n"
     ]
    },
    {
     "data": {
      "image/png": "[encoded data removed]",
      "text/plain": [
       "<matplotlib.figure.Figure at 0x2b68fab1d30>"
      ]
     },
     "metadata": {},
     "output_type": "display_data"
    }
   ],
   "source": [
    "plot_example_errors(X_test, y_test_vec, y_pred)"
   ]
  },
  {
   "cell_type": "markdown",
   "metadata": {},
   "source": [
    "## Tuning hyperparameters with `skopt`\n",
    "\n",
    "It may takes centuries to fine-tune all the hyperparameters in CNN through grid search. Fortunately, we can use `skopt` to help us tune efficiently.\n",
    "\n",
    "We are using `gp_minimize` here which corresponds to Gaussian process optimization. The main idea is to view all the hyperparameters as $x$ and the accuracy on validation set as the target function $f(x)$. Since we only know the function value given $x$ and no other information about its gradient etc., the tuing problem can be considered as \"black-box optimization\". For traditional grid search, each attemmpt of $x$ is independent. However, Gaussian process optimization offers an efficient sampling method based on the previous search result to help you locate the optimal $x$ efficiently."
   ]
  },
  {
   "cell_type": "code",
   "execution_count": 27,
   "metadata": {},
   "outputs": [],
   "source": [
    "from keras.callbacks import TensorBoard\n",
    "from skopt import gp_minimize, dump, load\n",
    "from skopt.space import Real, Integer\n",
    "from skopt.plots import plot_convergence\n",
    "from skopt.utils import use_named_args"
   ]
  },
  {
   "cell_type": "markdown",
   "metadata": {},
   "source": [
    "We use this method to find the **best learning rate, filter size of the convolutional layer and the number of dense layer**. First we define a function to onstruct CNN quickly given different combination of parameters. Note how we build it with varying number of the fully connected layer."
   ]
  },
  {
   "cell_type": "code",
   "execution_count": 18,
   "metadata": {},
   "outputs": [],
   "source": [
    "def create_model(learning_rate, kernel_size, num_dense_layers):\n",
    "    # Start construction of a Keras Sequential model.\n",
    "    model = Sequential()\n",
    "    model.add(InputLayer(input_shape=(img_rows, img_cols, 1, )))\n",
    "    model.add(Conv2D(32, kernel_size=int(kernel_size),\n",
    "                 activation='relu',\n",
    "                 padding='same',\n",
    "                 name = 'layer_conv_1'))\n",
    "    model.add(Conv2D(64, kernel_size=int(kernel_size),\n",
    "                 activation='relu',\n",
    "                 padding='same',\n",
    "                 name = 'layer_conv_2'))\n",
    "    model.add(MaxPooling2D(pool_size=2, strides=2))\n",
    "    model.add(Flatten())\n",
    "    for i in range(num_dense_layers):\n",
    "        # Name of the layer. This is not really necessary\n",
    "        # because Keras should give them unique names.\n",
    "        name = 'layer_dense_{0}'.format(i+1)\n",
    "\n",
    "        # Add the dense / fully-connected layer to the model.\n",
    "        # This has two hyper-parameters we want to optimize:\n",
    "        # The number of nodes and the activation function.\n",
    "        model.add(Dense(64,\n",
    "                        activation='relu',\n",
    "                        name=name))\n",
    "    \n",
    "    model.add(Dense(num_classes, activation='softmax'))\n",
    "\n",
    "    model.compile(loss=keras.losses.categorical_crossentropy,\n",
    "              optimizer=Adam(learning_rate),\n",
    "              metrics=['accuracy'])    \n",
    "    return model"
   ]
  },
  {
   "cell_type": "markdown",
   "metadata": {},
   "source": [
    "We wish to save the accuracy of each combination of parameters in different folders. So we use the following function to generate the folder name."
   ]
  },
  {
   "cell_type": "code",
   "execution_count": 19,
   "metadata": {},
   "outputs": [],
   "source": [
    "def log_dir_name(learning_rate,\n",
    "                 kernel_size,\n",
    "                 num_dense_layers):\n",
    "    # The dir-name for the TensorBoard log-dir.\n",
    "    s = os.path.join(log_path, \"lr_{0:.0e}_kernel_{1}_dense_{2}/\")\n",
    "    \n",
    "    log_dir = s.format(learning_rate,\n",
    "                       kernel_size,\n",
    "                       num_dense_layers)\n",
    "    return log_dir"
   ]
  },
  {
   "cell_type": "markdown",
   "metadata": {},
   "source": [
    "Next is to determine the **search range** of the hyperparameters. Here the learning rate is continuous and ranges from $10^{-4}$ to $10^{-2}$. The kernel size is integer and ranges from 3 to 5. And the number of the fully connected layer ranges from 1 to 3."
   ]
  },
  {
   "cell_type": "code",
   "execution_count": 23,
   "metadata": {},
   "outputs": [],
   "source": [
    "dim_learning_rate = Real(low=1e-4, high=1e-2, prior='log-uniform',\n",
    "                             name='learning_rate')\n",
    "dim_kernel_size = Integer(low=3, high=5, name='kernel_size')\n",
    "dim_num_dense_layers = Integer(low=1, high=3, name='num_dense_layers')\n",
    "\n",
    "dimensions = [dim_learning_rate, dim_kernel_size, dim_num_dense_layers]"
   ]
  },
  {
   "cell_type": "markdown",
   "metadata": {},
   "source": [
    "For each attempt, we wish to compare the result with the previous models and save the best one."
   ]
  },
  {
   "cell_type": "code",
   "execution_count": 34,
   "metadata": {},
   "outputs": [],
   "source": [
    "log_path = './mnist_skopt_log/'\n",
    "if not os.path.exists(log_path):\n",
    "    os.makedirs(log_path)\n",
    "result_path = './mnist_skopt_result/'\n",
    "if not os.path.exists(result_path):\n",
    "    os.makedirs(result_path)\n",
    "path_best_model = os.path.join(result_path+'best_model.keras')\n",
    "best_accuracy = 0.0"
   ]
  },
  {
   "cell_type": "markdown",
   "metadata": {},
   "source": [
    "`skopt` requires the target function written in the following format. The search space of parameters is passed using the decorator `use_named_args`. It doesn't matter if you don't understand how decorator works. You can just mimick the syntax to define your own target function."
   ]
  },
  {
   "cell_type": "code",
   "execution_count": 25,
   "metadata": {},
   "outputs": [],
   "source": [
    "@use_named_args(dimensions=dimensions)\n",
    "def fitness(learning_rate, kernel_size, num_dense_layers):\n",
    "    # Print the hyper-parameters.\n",
    "    print('learning rate: {0:.1e}'.format(learning_rate))\n",
    "    print('kernel_size:', kernel_size)\n",
    "    print('num_dense_layers:', num_dense_layers)\n",
    "    print()\n",
    "    # Create the neural network with these hyper-parameters.\n",
    "    model = create_model(learning_rate, kernel_size,  num_dense_layers)\n",
    "     \n",
    "    # Dir-name for the TensorBoard log-files.\n",
    "    log_dir = log_dir_name(learning_rate, kernel_size,  num_dense_layers)\n",
    "     \n",
    "    # Create a callback-function for Keras which will be\n",
    "    # run after each epoch has ended during training.\n",
    "    # This saves the log-files for TensorBoard.\n",
    "    # Note that there are complications when histogram_freq=1.\n",
    "    # It might give strange errors and it also does not properly\n",
    "    # support Keras data-generators for the validation-set.\n",
    "    callback_log = TensorBoard(\n",
    "        log_dir=log_dir,\n",
    "        histogram_freq=0,\n",
    "        batch_size=32,\n",
    "        write_graph=True,\n",
    "        write_grads=False,\n",
    "        write_images=False)\n",
    "    \n",
    "    # Use Keras to train the model.\n",
    "    history = model.fit(X_train, y_train,\n",
    "                        batch_size=batch_size,\n",
    "                        epochs=epochs,\n",
    "                        verbose=1,\n",
    "                        validation_data=(X_val, y_val),\n",
    "                        callbacks=[callback_log])\n",
    "    # Get the classification accuracy on the validation-set\n",
    "    # after the last training-epoch.\n",
    "    accuracy = history.history['val_acc'][-1]\n",
    "\n",
    "    # Print the classification accuracy.\n",
    "    print()\n",
    "    print(\"Accuracy: {0:.2%}\".format(accuracy))\n",
    "    print()\n",
    "    \n",
    "    # Save the model if it improves on the best-found performance.\n",
    "    # We use the global keyword so we update the variable outside\n",
    "    # of this function.\n",
    "    global best_accuracy\n",
    "\n",
    "    # If the classification accuracy of the saved model is improved ...\n",
    "    if accuracy > best_accuracy:\n",
    "        # Save the new model to harddisk.\n",
    "        model.save(path_best_model)\n",
    "        \n",
    "        # Update the classification accuracy.\n",
    "        best_accuracy = accuracy\n",
    "\n",
    "    # Delete the Keras model with these hyper-parameters from memory.\n",
    "    del model\n",
    "    \n",
    "    # Clear the Keras session, otherwise it will keep adding new\n",
    "    # models to the same TensorFlow graph each time we create\n",
    "    # a model with a different set of hyper-parameters.\n",
    "    K.clear_session()\n",
    "    \n",
    "    # NOTE: Scikit-optimize does minimization so it tries to\n",
    "    # find a set of hyper-parameters with the LOWEST fitness-value.\n",
    "    # Because we are interested in the HIGHEST classification\n",
    "    # accuracy, we need to negate this number so it can be minimized.\n",
    "    return -accuracy"
   ]
  },
  {
   "cell_type": "markdown",
   "metadata": {},
   "source": [
    "Before we run the optimzization process, we need to specify a starting point. `n_calls` in function `gp_minimize` determines how many $x$ should be sampled. This number should be at least 11."
   ]
  },
  {
   "cell_type": "code",
   "execution_count": 36,
   "metadata": {},
   "outputs": [
    {
     "name": "stdout",
     "output_type": "stream",
     "text": [
      "learning rate: 1.0e-04\n",
      "kernel_size: 3\n",
      "num_dense_layers: 1\n",
      "\n",
      "Train on 55000 samples, validate on 5000 samples\n",
      "Epoch 1/1\n",
      "55000/55000 [==============================] - 90s 2ms/step - loss: 0.5435 - acc: 0.8683 - val_loss: 0.1785 - val_acc: 0.9514\n",
      "\n",
      "Accuracy: 95.14%\n",
      "\n",
      "learning rate: 9.8e-03\n",
      "kernel_size: 5\n",
      "num_dense_layers: 2\n",
      "\n",
      "Train on 55000 samples, validate on 5000 samples\n",
      "Epoch 1/1\n",
      "55000/55000 [==============================] - 161s 3ms/step - loss: 0.1819 - acc: 0.9450 - val_loss: 0.0774 - val_acc: 0.9786\n",
      "\n",
      "Accuracy: 97.86%\n",
      "\n",
      "learning rate: 4.5e-03\n",
      "kernel_size: 3\n",
      "num_dense_layers: 2\n",
      "\n",
      "Train on 55000 samples, validate on 5000 samples\n",
      "Epoch 1/1\n",
      "55000/55000 [==============================] - 89s 2ms/step - loss: 0.1491 - acc: 0.9535 - val_loss: 0.0638 - val_acc: 0.9836\n",
      "\n",
      "Accuracy: 98.36%\n",
      "\n",
      "learning rate: 2.2e-04\n",
      "kernel_size: 5\n",
      "num_dense_layers: 2\n",
      "\n",
      "Train on 55000 samples, validate on 5000 samples\n",
      "Epoch 1/1\n",
      "55000/55000 [==============================] - 164s 3ms/step - loss: 0.3313 - acc: 0.9028 - val_loss: 0.0906 - val_acc: 0.9770\n",
      "\n",
      "Accuracy: 97.70%\n",
      "\n",
      "learning rate: 1.1e-04\n",
      "kernel_size: 3\n",
      "num_dense_layers: 2\n",
      "\n",
      "Train on 55000 samples, validate on 5000 samples\n",
      "Epoch 1/1\n",
      "55000/55000 [==============================] - 91s 2ms/step - loss: 0.5591 - acc: 0.8397 - val_loss: 0.1703 - val_acc: 0.9516\n",
      "\n",
      "Accuracy: 95.16%\n",
      "\n",
      "learning rate: 1.8e-04\n",
      "kernel_size: 3\n",
      "num_dense_layers: 2\n",
      "\n",
      "Train on 55000 samples, validate on 5000 samples\n",
      "Epoch 1/1\n",
      "55000/55000 [==============================] - 92s 2ms/step - loss: 0.4443 - acc: 0.8784 - val_loss: 0.1393 - val_acc: 0.9610\n",
      "\n",
      "Accuracy: 96.10%\n",
      "\n",
      "learning rate: 2.7e-04\n",
      "kernel_size: 4\n",
      "num_dense_layers: 1\n",
      "\n",
      "Train on 55000 samples, validate on 5000 samples\n",
      "Epoch 1/1\n",
      "55000/55000 [==============================] - 133s 2ms/step - loss: 0.2895 - acc: 0.9198 - val_loss: 0.0753 - val_acc: 0.9812\n",
      "\n",
      "Accuracy: 98.12%\n",
      "\n",
      "learning rate: 1.1e-03\n",
      "kernel_size: 3\n",
      "num_dense_layers: 1\n",
      "\n",
      "Train on 55000 samples, validate on 5000 samples\n",
      "Epoch 1/1\n",
      "55000/55000 [==============================] - 90s 2ms/step - loss: 0.1861 - acc: 0.9445 - val_loss: 0.0613 - val_acc: 0.9832\n",
      "\n",
      "Accuracy: 98.32%\n",
      "\n",
      "learning rate: 1.8e-04\n",
      "kernel_size: 5\n",
      "num_dense_layers: 1\n",
      "\n",
      "Train on 55000 samples, validate on 5000 samples\n",
      "Epoch 1/1\n",
      "55000/55000 [==============================] - 162s 3ms/step - loss: 0.3618 - acc: 0.8981 - val_loss: 0.0985 - val_acc: 0.9744\n",
      "\n",
      "Accuracy: 97.44%\n",
      "\n",
      "learning rate: 4.7e-03\n",
      "kernel_size: 5\n",
      "num_dense_layers: 2\n",
      "\n",
      "Train on 55000 samples, validate on 5000 samples\n",
      "Epoch 1/1\n",
      "55000/55000 [==============================] - 162s 3ms/step - loss: 0.1453 - acc: 0.9556 - val_loss: 0.0664 - val_acc: 0.9814\n",
      "\n",
      "Accuracy: 98.14%\n",
      "\n",
      "learning rate: 1.6e-04\n",
      "kernel_size: 3\n",
      "num_dense_layers: 2\n",
      "\n",
      "Train on 55000 samples, validate on 5000 samples\n",
      "Epoch 1/1\n",
      "55000/55000 [==============================] - 95s 2ms/step - loss: 0.4579 - acc: 0.8762 - val_loss: 0.1470 - val_acc: 0.9576\n",
      "\n",
      "Accuracy: 95.76%\n",
      "\n"
     ]
    }
   ],
   "source": [
    "# initial hyperparameters for search\n",
    "default_parameters = [1e-4, 3, 1]\n",
    "\n",
    "# search by Gaussian Process Optimization\n",
    "search_result = gp_minimize(func=fitness,\n",
    "                            dimensions=dimensions,\n",
    "                            acq_func='EI', # Expected Improvement.\n",
    "                            n_calls=11, # min n_calls=11\n",
    "                            x0=default_parameters)"
   ]
  },
  {
   "cell_type": "markdown",
   "metadata": {},
   "source": [
    "We can save the optimization procedure for future use (e.g. if you want to try more settings and don't want to repeat with the existing parameters you already tried)."
   ]
  },
  {
   "cell_type": "code",
   "execution_count": 53,
   "metadata": {},
   "outputs": [],
   "source": [
    "# save the search result for future use\n",
    "dump(search_result,result_path+'search_result.gz', compress=9)\n",
    "# if you need to reload the optimization history, use the following command\n",
    "#res_load = load(result_path+'search_result.gz')\n",
    "f = open(result_path+'best_hyperparameter.txt', 'w')\n",
    "f.write(\"learning rate: {0:.1e}, kernel_size:{1}, number of fully connecte layer:{2}\".format(search_result.x[0],search_result.x[1],search_result.x[2]))\n",
    "f.close()"
   ]
  },
  {
   "cell_type": "markdown",
   "metadata": {},
   "source": [
    "Let's check the result of the searched best model."
   ]
  },
  {
   "cell_type": "code",
   "execution_count": 48,
   "metadata": {},
   "outputs": [
    {
     "name": "stdout",
     "output_type": "stream",
     "text": [
      "Test loss: 0.06018458512630313\n",
      "Test accuracy: 0.9816\n"
     ]
    }
   ],
   "source": [
    "model_best = load_model(path_best_model)\n",
    "score = model_best.evaluate(X_test, y_test, verbose=0)\n",
    "print('Test loss:', score[0])\n",
    "print('Test accuracy:', score[1])"
   ]
  },
  {
   "cell_type": "markdown",
   "metadata": {},
   "source": [
    "The optimal $x$:"
   ]
  },
  {
   "cell_type": "code",
   "execution_count": 54,
   "metadata": {},
   "outputs": [
    {
     "data": {
      "text/plain": [
       "[0.0044690090737163225, 3, 2]"
      ]
     },
     "execution_count": 54,
     "metadata": {},
     "output_type": "execute_result"
    }
   ],
   "source": [
    "search_result.x"
   ]
  },
  {
   "cell_type": "markdown",
   "metadata": {},
   "source": [
    "We can further investigate other combinations of hyparameters and their corresponding accuracies."
   ]
  },
  {
   "cell_type": "code",
   "execution_count": 57,
   "metadata": {},
   "outputs": [
    {
     "data": {
      "text/plain": [
       "[(0.9836, [0.0044690090737163225, 3, 2]),\n",
       " (0.9832, [0.001110768985459163, 3, 1]),\n",
       " (0.9814, [0.004677764999980069, 5, 2]),\n",
       " (0.9812, [0.0002725833244959208, 4, 1]),\n",
       " (0.9786, [0.009763029927194905, 5, 2]),\n",
       " (0.977, [0.00022057465915229911, 5, 2]),\n",
       " (0.9744, [0.0001768597211718096, 5, 1]),\n",
       " (0.961, [0.00018141076342949536, 3, 2]),\n",
       " (0.9576, [0.00016258574972475776, 3, 2]),\n",
       " (0.9516, [0.00010967343799397746, 3, 2]),\n",
       " (0.9514, [0.0001, 3, 1])]"
      ]
     },
     "execution_count": 57,
     "metadata": {},
     "output_type": "execute_result"
    }
   ],
   "source": [
    "sorted(zip(-search_result.func_vals, search_result.x_iters), reverse=True)"
   ]
  },
  {
   "cell_type": "markdown",
   "metadata": {},
   "source": [
    "The convergence plot of the optimization procedure:"
   ]
  },
  {
   "cell_type": "code",
   "execution_count": 58,
   "metadata": {},
   "outputs": [
    {
     "data": {
      "text/plain": [
       "<matplotlib.axes._subplots.AxesSubplot at 0x2b6992387b8>"
      ]
     },
     "execution_count": 58,
     "metadata": {},
     "output_type": "execute_result"
    },
    {
     "data": {
      "image/png": "[encoded data removed]",
      "text/plain": [
       "<matplotlib.figure.Figure at 0x2b699236048>"
      ]
     },
     "metadata": {},
     "output_type": "display_data"
    }
   ],
   "source": [
    "plot_convergence(search_result)"
   ]
  }
 ],
 "metadata": {
  "kernelspec": {
   "display_name": "Python 3",
   "language": "python",
   "name": "python3"
  },
  "language_info": {
   "codemirror_mode": {
    "name": "ipython",
    "version": 3
   },
   "file_extension": ".py",
   "mimetype": "text/x-python",
   "name": "python",
   "nbconvert_exporter": "python",
   "pygments_lexer": "ipython3",
   "version": "3.6.4"
  }
 },
 "nbformat": 4,
 "nbformat_minor": 2
}
